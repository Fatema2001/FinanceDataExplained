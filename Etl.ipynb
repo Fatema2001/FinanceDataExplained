{
 "cells": [
  {
   "cell_type": "code",
   "execution_count": 1,
   "id": "344c644c",
   "metadata": {},
   "outputs": [
    {
     "name": "stdout",
     "output_type": "stream",
     "text": [
      "Requirement already satisfied: azure-storage-blob in ./opt/anaconda3/lib/python3.9/site-packages (12.19.1)\n",
      "Requirement already satisfied: cryptography>=2.1.4 in ./opt/anaconda3/lib/python3.9/site-packages (from azure-storage-blob) (37.0.1)\n",
      "Requirement already satisfied: isodate>=0.6.1 in ./opt/anaconda3/lib/python3.9/site-packages (from azure-storage-blob) (0.6.1)\n",
      "Requirement already satisfied: typing-extensions>=4.3.0 in ./opt/anaconda3/lib/python3.9/site-packages (from azure-storage-blob) (4.11.0)\n",
      "Requirement already satisfied: azure-core<2.0.0,>=1.28.0 in ./opt/anaconda3/lib/python3.9/site-packages (from azure-storage-blob) (1.30.1)\n",
      "Requirement already satisfied: requests>=2.21.0 in ./opt/anaconda3/lib/python3.9/site-packages (from azure-core<2.0.0,>=1.28.0->azure-storage-blob) (2.28.1)\n",
      "Requirement already satisfied: six>=1.11.0 in ./opt/anaconda3/lib/python3.9/site-packages (from azure-core<2.0.0,>=1.28.0->azure-storage-blob) (1.16.0)\n",
      "Requirement already satisfied: cffi>=1.12 in ./opt/anaconda3/lib/python3.9/site-packages (from cryptography>=2.1.4->azure-storage-blob) (1.15.1)\n",
      "Requirement already satisfied: pycparser in ./opt/anaconda3/lib/python3.9/site-packages (from cffi>=1.12->cryptography>=2.1.4->azure-storage-blob) (2.21)\n",
      "Requirement already satisfied: idna<4,>=2.5 in ./opt/anaconda3/lib/python3.9/site-packages (from requests>=2.21.0->azure-core<2.0.0,>=1.28.0->azure-storage-blob) (3.3)\n",
      "Requirement already satisfied: urllib3<1.27,>=1.21.1 in ./opt/anaconda3/lib/python3.9/site-packages (from requests>=2.21.0->azure-core<2.0.0,>=1.28.0->azure-storage-blob) (1.26.11)\n",
      "Requirement already satisfied: charset-normalizer<3,>=2 in ./opt/anaconda3/lib/python3.9/site-packages (from requests>=2.21.0->azure-core<2.0.0,>=1.28.0->azure-storage-blob) (2.0.4)\n",
      "Requirement already satisfied: certifi>=2017.4.17 in ./opt/anaconda3/lib/python3.9/site-packages (from requests>=2.21.0->azure-core<2.0.0,>=1.28.0->azure-storage-blob) (2022.9.24)\n",
      "Collecting pyarrow\n",
      "  Downloading pyarrow-16.1.0-cp39-cp39-macosx_10_15_x86_64.whl (28.4 MB)\n",
      "\u001b[2K     \u001b[90m━━━━━━━━━━━━━━━━━━━━━━━━━━━━━━━━━━━━━━━━\u001b[0m \u001b[32m28.4/28.4 MB\u001b[0m \u001b[31m1.8 MB/s\u001b[0m eta \u001b[36m0:00:00\u001b[0m00:01\u001b[0m00:01\u001b[0m\n",
      "\u001b[?25hRequirement already satisfied: numpy>=1.16.6 in ./opt/anaconda3/lib/python3.9/site-packages (from pyarrow) (1.24.1)\n",
      "Installing collected packages: pyarrow\n",
      "Successfully installed pyarrow-16.1.0\n"
     ]
    }
   ],
   "source": [
    "!pip install azure-storage-blob\n",
    "!pip install pyarrow "
   ]
  },
  {
   "cell_type": "code",
   "execution_count": 4,
   "id": "61951336",
   "metadata": {},
   "outputs": [],
   "source": [
    "import pandas as pd\n",
    "import numpy as np\n",
    "import requests\n",
    "from io import StringIO\n",
    "from azure.storage.blob import BlobServiceClient, BlobClient,ContainerClient\n",
    "from math import ceil \n",
    "import datetime \n",
    "import calendar "
   ]
  },
  {
   "cell_type": "code",
   "execution_count": 5,
   "id": "c625e73e",
   "metadata": {},
   "outputs": [],
   "source": [
    "\n",
    "def azure_upload_blob(connect_str, container_name, blob_name, data):\n",
    "    blob_service_client = BlobServiceClient.from_connection_string(connect_str)\n",
    "    blob_client = blob_service_client.get_blob_client(container=container_name, blob=blob_name)\n",
    "    blob_client.upload_blob(data, overwrite=True)\n",
    "    print(f\"Uploaded to Azure Blob: {blob_name}\")\n",
    "\n",
    "def azure_download_blob(connect_str, container_name, blob_name):\n",
    "    blob_service_client = BlobServiceClient.from_connection_string(connect_str)\n",
    "    blob_client = blob_service_client.get_blob_client(container=container_name, blob=blob_name)\n",
    "    download_stream = blob_client.download_blob()\n",
    "    return download_stream.readall()\n",
    "\n",
    "def google_upload_blob(bucket_name, source_file_name, destination_blob_name):\n",
    "    storage_client = storage.Client()\n",
    "    bucket = storage_client.bucket(bucket_name)\n",
    "    blob = bucket.blob(destination_blob_name)\n",
    "    blob.upload_from_filename(source_file_name)\n",
    "    print(f\"File {source_file_name} uploaded to {destination_blob_name}.\")\n",
    "\n",
    "def google_download_blob(bucket_name, source_blob_name, destination_file_name):\n",
    "    storage_client = storage.Client()\n",
    "    bucket = storage_client.bucket(bucket_name)\n",
    "    blob = bucket.blob(source_blob_name)\n",
    "    blob.download_to_filename(destination_file_name)\n",
    "    print(f\"Blob {source_blob_name} downloaded to {destination_file_name}.\")\n",
    "\n",
    "def aws_upload_file(file_name, bucket, object_name=None):\n",
    "    if object_name is None:\n",
    "        object_name = os.path.basename(file_name)\n",
    "    s3_client = boto3.client('s3')\n",
    "    response = s3_client.upload_file(file_name, bucket, object_name)\n",
    "    print(f\"Uploaded {file_name} to S3 bucket {bucket}.\")\n",
    "\n",
    "def aws_download_file(bucket, object_name, file_name):\n",
    "    s3_client = boto3.client('s3')\n",
    "    s3_client.download_file(bucket, object_name, file_name)\n",
    "    print(f\"Downloaded {object_name} from S3 bucket {bucket}.\")\n"
   ]
  },
  {
   "cell_type": "code",
   "execution_count": 1,
   "id": "aa1f59e4",
   "metadata": {},
   "outputs": [],
   "source": [
    "def week_of_month(dt):\n",
    "    first_day= dt.replace(day=1)\n",
    "    dom=dt.day\n",
    "    adjusted_dom = dom+first_day.weekday()\n",
    "    return int(ceil(adjusted_dom/7.0))\n",
    "def get_week_of_year(date_str):\n",
    "    \"\"\"\"\n",
    "    Calculate the ISO week number of the year for a given date\n",
    "    \n",
    "    parameters:\n",
    "    date_str(str): A date string in the format 'YYYY-MM-DD'\n",
    "    Returns:\n",
    "    int : ISO week number of the year.\n",
    "    \"\"\"\n",
    "    datec= datetime.strptime(date_str,'%Y-%m-%d')\n",
    "    week_of_year = date.isocalendar()[1]\n",
    "    \n",
    "    return week_of_year"
   ]
  },
  {
   "cell_type": "code",
   "execution_count": null,
   "id": "060e132a",
   "metadata": {},
   "outputs": [],
   "source": [
    "config_file_path = 'config.json'\n",
    "with open(config_file_path,'r')as config_file:\n",
    "    config=json.load(config_file)\n",
    "    \n",
    "    \n",
    "    "
   ]
  }
 ],
 "metadata": {
  "kernelspec": {
   "display_name": "Python 3 (ipykernel)",
   "language": "python",
   "name": "python3"
  },
  "language_info": {
   "codemirror_mode": {
    "name": "ipython",
    "version": 3
   },
   "file_extension": ".py",
   "mimetype": "text/x-python",
   "name": "python",
   "nbconvert_exporter": "python",
   "pygments_lexer": "ipython3",
   "version": "3.9.13"
  }
 },
 "nbformat": 4,
 "nbformat_minor": 5
}
