{
 "cells": [
  {
   "cell_type": "code",
   "execution_count": 1,
   "id": "6c449c7c",
   "metadata": {},
   "outputs": [
    {
     "name": "stdout",
     "output_type": "stream",
     "text": [
      "Requirement already satisfied: azure-storage-blob in /Users/fatemaahmed/opt/anaconda3/lib/python3.9/site-packages (12.19.1)\n",
      "Requirement already satisfied: typing-extensions>=4.3.0 in /Users/fatemaahmed/opt/anaconda3/lib/python3.9/site-packages (from azure-storage-blob) (4.11.0)\n",
      "Requirement already satisfied: cryptography>=2.1.4 in /Users/fatemaahmed/opt/anaconda3/lib/python3.9/site-packages (from azure-storage-blob) (37.0.1)\n",
      "Requirement already satisfied: isodate>=0.6.1 in /Users/fatemaahmed/opt/anaconda3/lib/python3.9/site-packages (from azure-storage-blob) (0.6.1)\n",
      "Requirement already satisfied: azure-core<2.0.0,>=1.28.0 in /Users/fatemaahmed/opt/anaconda3/lib/python3.9/site-packages (from azure-storage-blob) (1.30.1)\n",
      "Requirement already satisfied: six>=1.11.0 in /Users/fatemaahmed/opt/anaconda3/lib/python3.9/site-packages (from azure-core<2.0.0,>=1.28.0->azure-storage-blob) (1.16.0)\n",
      "Requirement already satisfied: requests>=2.21.0 in /Users/fatemaahmed/opt/anaconda3/lib/python3.9/site-packages (from azure-core<2.0.0,>=1.28.0->azure-storage-blob) (2.28.1)\n",
      "Requirement already satisfied: cffi>=1.12 in /Users/fatemaahmed/opt/anaconda3/lib/python3.9/site-packages (from cryptography>=2.1.4->azure-storage-blob) (1.15.1)\n",
      "Requirement already satisfied: pycparser in /Users/fatemaahmed/opt/anaconda3/lib/python3.9/site-packages (from cffi>=1.12->cryptography>=2.1.4->azure-storage-blob) (2.21)\n",
      "Requirement already satisfied: charset-normalizer<3,>=2 in /Users/fatemaahmed/opt/anaconda3/lib/python3.9/site-packages (from requests>=2.21.0->azure-core<2.0.0,>=1.28.0->azure-storage-blob) (2.0.4)\n",
      "Requirement already satisfied: certifi>=2017.4.17 in /Users/fatemaahmed/opt/anaconda3/lib/python3.9/site-packages (from requests>=2.21.0->azure-core<2.0.0,>=1.28.0->azure-storage-blob) (2022.9.24)\n",
      "Requirement already satisfied: idna<4,>=2.5 in /Users/fatemaahmed/opt/anaconda3/lib/python3.9/site-packages (from requests>=2.21.0->azure-core<2.0.0,>=1.28.0->azure-storage-blob) (3.3)\n",
      "Requirement already satisfied: urllib3<1.27,>=1.21.1 in /Users/fatemaahmed/opt/anaconda3/lib/python3.9/site-packages (from requests>=2.21.0->azure-core<2.0.0,>=1.28.0->azure-storage-blob) (1.26.11)\n",
      "Requirement already satisfied: boto3 in /Users/fatemaahmed/opt/anaconda3/lib/python3.9/site-packages (1.24.28)\n",
      "Requirement already satisfied: botocore<1.28.0,>=1.27.28 in /Users/fatemaahmed/opt/anaconda3/lib/python3.9/site-packages (from boto3) (1.27.28)\n",
      "Requirement already satisfied: jmespath<2.0.0,>=0.7.1 in /Users/fatemaahmed/opt/anaconda3/lib/python3.9/site-packages (from boto3) (0.10.0)\n",
      "Requirement already satisfied: s3transfer<0.7.0,>=0.6.0 in /Users/fatemaahmed/opt/anaconda3/lib/python3.9/site-packages (from boto3) (0.6.0)\n",
      "Requirement already satisfied: python-dateutil<3.0.0,>=2.1 in /Users/fatemaahmed/opt/anaconda3/lib/python3.9/site-packages (from botocore<1.28.0,>=1.27.28->boto3) (2.8.2)\n",
      "Requirement already satisfied: urllib3<1.27,>=1.25.4 in /Users/fatemaahmed/opt/anaconda3/lib/python3.9/site-packages (from botocore<1.28.0,>=1.27.28->boto3) (1.26.11)\n",
      "Requirement already satisfied: six>=1.5 in /Users/fatemaahmed/opt/anaconda3/lib/python3.9/site-packages (from python-dateutil<3.0.0,>=2.1->botocore<1.28.0,>=1.27.28->boto3) (1.16.0)\n",
      "Requirement already satisfied: google-cloud-storage in /Users/fatemaahmed/opt/anaconda3/lib/python3.9/site-packages (2.16.0)\n",
      "Requirement already satisfied: google-crc32c<2.0dev,>=1.0 in /Users/fatemaahmed/opt/anaconda3/lib/python3.9/site-packages (from google-cloud-storage) (1.5.0)\n",
      "Requirement already satisfied: google-cloud-core<3.0dev,>=2.3.0 in /Users/fatemaahmed/opt/anaconda3/lib/python3.9/site-packages (from google-cloud-storage) (2.4.1)\n",
      "Requirement already satisfied: google-api-core<3.0.0dev,>=2.15.0 in /Users/fatemaahmed/opt/anaconda3/lib/python3.9/site-packages (from google-cloud-storage) (2.18.0)\n",
      "Requirement already satisfied: google-auth<3.0dev,>=2.26.1 in /Users/fatemaahmed/opt/anaconda3/lib/python3.9/site-packages (from google-cloud-storage) (2.29.0)\n",
      "Requirement already satisfied: requests<3.0.0dev,>=2.18.0 in /Users/fatemaahmed/opt/anaconda3/lib/python3.9/site-packages (from google-cloud-storage) (2.28.1)\n",
      "Requirement already satisfied: google-resumable-media>=2.6.0 in /Users/fatemaahmed/opt/anaconda3/lib/python3.9/site-packages (from google-cloud-storage) (2.7.0)\n",
      "Requirement already satisfied: protobuf!=3.20.0,!=3.20.1,!=4.21.0,!=4.21.1,!=4.21.2,!=4.21.3,!=4.21.4,!=4.21.5,<5.0.0.dev0,>=3.19.5 in /Users/fatemaahmed/opt/anaconda3/lib/python3.9/site-packages (from google-api-core<3.0.0dev,>=2.15.0->google-cloud-storage) (4.25.3)\n",
      "Requirement already satisfied: googleapis-common-protos<2.0.dev0,>=1.56.2 in /Users/fatemaahmed/opt/anaconda3/lib/python3.9/site-packages (from google-api-core<3.0.0dev,>=2.15.0->google-cloud-storage) (1.63.0)\n",
      "Requirement already satisfied: proto-plus<2.0.0dev,>=1.22.3 in /Users/fatemaahmed/opt/anaconda3/lib/python3.9/site-packages (from google-api-core<3.0.0dev,>=2.15.0->google-cloud-storage) (1.23.0)\n",
      "Requirement already satisfied: cachetools<6.0,>=2.0.0 in /Users/fatemaahmed/opt/anaconda3/lib/python3.9/site-packages (from google-auth<3.0dev,>=2.26.1->google-cloud-storage) (5.3.3)\n",
      "Requirement already satisfied: pyasn1-modules>=0.2.1 in /Users/fatemaahmed/opt/anaconda3/lib/python3.9/site-packages (from google-auth<3.0dev,>=2.26.1->google-cloud-storage) (0.2.8)\n",
      "Requirement already satisfied: rsa<5,>=3.1.4 in /Users/fatemaahmed/opt/anaconda3/lib/python3.9/site-packages (from google-auth<3.0dev,>=2.26.1->google-cloud-storage) (4.9)\n",
      "Requirement already satisfied: urllib3<1.27,>=1.21.1 in /Users/fatemaahmed/opt/anaconda3/lib/python3.9/site-packages (from requests<3.0.0dev,>=2.18.0->google-cloud-storage) (1.26.11)\n",
      "Requirement already satisfied: idna<4,>=2.5 in /Users/fatemaahmed/opt/anaconda3/lib/python3.9/site-packages (from requests<3.0.0dev,>=2.18.0->google-cloud-storage) (3.3)\n",
      "Requirement already satisfied: charset-normalizer<3,>=2 in /Users/fatemaahmed/opt/anaconda3/lib/python3.9/site-packages (from requests<3.0.0dev,>=2.18.0->google-cloud-storage) (2.0.4)\n",
      "Requirement already satisfied: certifi>=2017.4.17 in /Users/fatemaahmed/opt/anaconda3/lib/python3.9/site-packages (from requests<3.0.0dev,>=2.18.0->google-cloud-storage) (2022.9.24)\n",
      "Requirement already satisfied: pyasn1<0.5.0,>=0.4.6 in /Users/fatemaahmed/opt/anaconda3/lib/python3.9/site-packages (from pyasn1-modules>=0.2.1->google-auth<3.0dev,>=2.26.1->google-cloud-storage) (0.4.8)\n"
     ]
    }
   ],
   "source": [
    "# Downloading libaries\n",
    "!pip install azure-storage-blob\n",
    "!pip install boto3\n",
    "!pip install google-cloud-storage"
   ]
  },
  {
   "cell_type": "code",
   "execution_count": 2,
   "id": "ea2c8c49",
   "metadata": {},
   "outputs": [],
   "source": [
    "# Importing Liberies\n",
    "from io import StringIO\n",
    "import numpy as np\n",
    "import pandas as pd\n",
    "import json\n",
    "import requests\n",
    "from azure.storage.blob import BlobServiceClient, BlobClient, ContainerClient "
   ]
  },
  {
   "cell_type": "code",
   "execution_count": 3,
   "id": "8210a1ac",
   "metadata": {},
   "outputs": [
    {
     "name": "stdout",
     "output_type": "stream",
     "text": [
      "<class 'pandas.core.frame.DataFrame'>\n",
      "RangeIndex: 292967 entries, 0 to 292966\n",
      "Data columns (total 21 columns):\n",
      " #   Column                 Non-Null Count   Dtype  \n",
      "---  ------                 --------------   -----  \n",
      " 0   COMMODITY              292967 non-null  object \n",
      " 1   COMMODITY_DESCRIPTION  292967 non-null  object \n",
      " 2   EXTENDED_DESCRIPTION   230803 non-null  object \n",
      " 3   QUANTITY               292967 non-null  float64\n",
      " 4   UNIT_OF_MEASURE        202162 non-null  object \n",
      " 5   UNIT_OF_MEAS_DESC      202162 non-null  object \n",
      " 6   UNIT_PRICE             292967 non-null  float64\n",
      " 7   ITM_TOT_AM             292967 non-null  float64\n",
      " 8   MASTER_AGREEMENT       215097 non-null  object \n",
      " 9   CONTRACT_NAME          292967 non-null  object \n",
      " 10  PURCHASE_ORDER         292967 non-null  object \n",
      " 11  AWARD_DATE             292967 non-null  object \n",
      " 12  VENDOR_CODE            292967 non-null  object \n",
      " 13  LGL_NM                 292967 non-null  object \n",
      " 14  AD_LN_1                292068 non-null  object \n",
      " 15  AD_LN_2                40956 non-null   object \n",
      " 16  CITY                   292068 non-null  object \n",
      " 17  ST                     291654 non-null  object \n",
      " 18  ZIP                    292068 non-null  object \n",
      " 19  CTRY                   292068 non-null  object \n",
      " 20  DATA_BUILD_DATE        292967 non-null  object \n",
      "dtypes: float64(3), object(18)\n",
      "memory usage: 46.9+ MB\n",
      "None\n",
      "(292967, 21)\n",
      "     COMMODITY                              COMMODITY_DESCRIPTION  \\\n",
      "0        72582     Two-Way Radio Supplies, Parts, and Accessories   \n",
      "1        03145  Filters, Air Conditioning/Furnace (Disposable ...   \n",
      "2        20367  Power Supplies: Surge Protectors, Uninterrupti...   \n",
      "3        20488  Scanners, Document: Handheld, Desktop and High...   \n",
      "4  55085080002       ARMS, MAST, TRAFFIC SIGNAL, STEEL 20' TYPE 1   \n",
      "\n",
      "                                EXTENDED_DESCRIPTION  QUANTITY  \\\n",
      "0                      39905  10ft 45G Tower Section       1.0   \n",
      "1  24 EA, FILTER, AIR - HVAC, 16\" X 20\" X 2\", Cat...       0.0   \n",
      "2                                                NaN       4.0   \n",
      "3                     Canon DR7550C Desk Top Scanner       1.0   \n",
      "4                                                NaN       6.0   \n",
      "\n",
      "  UNIT_OF_MEASURE UNIT_OF_MEAS_DESC  UNIT_PRICE  ITM_TOT_AM  \\\n",
      "0              EA              Each      246.71      246.71   \n",
      "1             NaN               NaN        0.00     1595.40   \n",
      "2              EA              Each        3.15       12.60   \n",
      "3              EA              Each     4003.00     4003.00   \n",
      "4              EA              Each     1280.00     7680.00   \n",
      "\n",
      "    MASTER_AGREEMENT                                      CONTRACT_NAME  ...  \\\n",
      "0  MA6400GA110000013                     TESSCO $2,352.53  SEE ATTACHED  ...   \n",
      "1  MA5000GA230000022  Air Relief (Tex Air)- Filters for Warehouse Stock  ...   \n",
      "2  MA5600NC120000009  #16061-additional storage to meet data usage a...  ...   \n",
      "3                NaN                     Canon DR7550C Desk Top Scanner  ...   \n",
      "4  MA2400GA200000074                                Pole Yard Replenish  ...   \n",
      "\n",
      "   AWARD_DATE   VENDOR_CODE                          LGL_NM  \\\n",
      "0  02/29/2012    TES8311882                      TESSCO INC   \n",
      "1  02/12/2024  VS0000015472   Air Relief Technologies, Inc.   \n",
      "2  09/19/2012  VC0000102847       FREEIT DATA SOLUTIONS INC   \n",
      "3  10/30/2012  VS0000026226  Canon Business Solutions, Inc.   \n",
      "4  10/23/2020    WIL8322348         WILDCAT ELECTRIC SUPPLY   \n",
      "\n",
      "                       AD_LN_1 AD_LN_2         CITY  ST         ZIP CTRY  \\\n",
      "0           11126 MCCORMICK RD     NaN  HUNT VALLEY  MD  21031-1404   US   \n",
      "1     2209A Rutland Dr Ste 125     NaN       Austin  TX       78758   US   \n",
      "2                  PO Box 1572     NaN       Austin  TX  78767-1572   US   \n",
      "3     300 Commerce Square Blvd     NaN   Burlington  NJ       08016   US   \n",
      "4  2061 CLOVIS BARKER RD STE 5     NaN   SAN MARCOS  TX  78666-1072   US   \n",
      "\n",
      "  DATA_BUILD_DATE  \n",
      "0      05/06/2024  \n",
      "1      05/06/2024  \n",
      "2      05/06/2024  \n",
      "3      05/06/2024  \n",
      "4      05/06/2024  \n",
      "\n",
      "[5 rows x 21 columns]\n"
     ]
    }
   ],
   "source": [
    "# Extracting from Data Source\n",
    "import pandas as pd\n",
    "\n",
    "Finance_raw = pd.read_csv('Purchase_Order_Quantity_Price_detail_for_Commodity_Goods_procurements_20240514.csv')\n",
    "print(Finance_raw.info())\n",
    "print(Finance_raw.shape)\n",
    "print(Finance_raw.head())"
   ]
  },
  {
   "cell_type": "code",
   "execution_count": 7,
   "id": "f626bd84",
   "metadata": {},
   "outputs": [
    {
     "name": "stdout",
     "output_type": "stream",
     "text": [
      "Uploaded Purchase_Order_Quantity_Price_detail_for_Commodity_Goods_procurements_20240410.csv to Azure Blob Storage in container ficnance.\n"
     ]
    }
   ],
   "source": [
    "config_file_path = 'config.json'\n",
    "\n",
    "with open(config_file_path, 'r') as config_file:\n",
    "    config = json.load(config_file)\n",
    "    \n",
    "CONNECTION_STRING_AZURE_STORAGE =\"Private \"\n",
    "CONTAINER_AZURE = 'Insert your own'\n",
    "blob_name =\"Purchase_Order_Quantity_Price_detail_for_Commodity_Goods_procurements_20240410.csv\"\n",
    "output = StringIO()\n",
    "Finance_raw.to_csv(output, index=False)\n",
    "data = output.getvalue()\n",
    "output.close()\n",
    "\n",
    "blob_service_client= BlobServiceClient.from_connection_string(CONNECTION_STRING_AZURE_STORAGE)\n",
    "\n",
    "blob_client = blob_service_client.get_blob_client(container=CONTAINER_AZURE, blob=blob_name)\n",
    "\n",
    "blob_client.upload_blob(data,overwrite = True)\n",
    "\n",
    "print(f\"Uploaded {blob_name} to Azure Blob Storage in container {CONTAINER_AZURE}.\")"
   ]
  },
  {
   "cell_type": "code",
   "execution_count": null,
   "id": "43995cd1",
   "metadata": {},
   "outputs": [],
   "source": []
  }
 ],
 "metadata": {
  "kernelspec": {
   "display_name": "Python 3 (ipykernel)",
   "language": "python",
   "name": "python3"
  },
  "language_info": {
   "codemirror_mode": {
    "name": "ipython",
    "version": 3
   },
   "file_extension": ".py",
   "mimetype": "text/x-python",
   "name": "python",
   "nbconvert_exporter": "python",
   "pygments_lexer": "ipython3",
   "version": "3.9.13"
  }
 },
 "nbformat": 4,
 "nbformat_minor": 5
}
